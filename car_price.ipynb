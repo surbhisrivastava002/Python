{
 "cells": [
  {
   "cell_type": "code",
   "execution_count": 1,
   "id": "380ab946-5b60-42bb-afa2-cd761fb57c62",
   "metadata": {},
   "outputs": [],
   "source": [
    "import pandas as pd\n",
    "import matplotlib.pyplot as plt\n",
    "import seaborn as sns"
   ]
  },
  {
   "cell_type": "code",
   "execution_count": 2,
   "id": "8b5b5dcf-c0fc-47fe-a6fe-1e44a98251c9",
   "metadata": {},
   "outputs": [],
   "source": [
    "dataset=pd.read_csv(r'C:\\Users\\Suresh\\Downloads\\car_price.csv')"
   ]
  },
  {
   "cell_type": "code",
   "execution_count": 3,
   "id": "b4aaf5ff-e043-4607-abb6-07ed4b724810",
   "metadata": {},
   "outputs": [
    {
     "data": {
      "text/plain": [
       "(5512, 9)"
      ]
     },
     "execution_count": 3,
     "metadata": {},
     "output_type": "execute_result"
    }
   ],
   "source": [
    "dataset.shape"
   ]
  },
  {
   "cell_type": "code",
   "execution_count": 63,
   "id": "f72461af-d361-46dc-8d73-f3d5598e2ea5",
   "metadata": {},
   "outputs": [
    {
     "data": {
      "text/html": [
       "<div>\n",
       "<style scoped>\n",
       "    .dataframe tbody tr th:only-of-type {\n",
       "        vertical-align: middle;\n",
       "    }\n",
       "\n",
       "    .dataframe tbody tr th {\n",
       "        vertical-align: top;\n",
       "    }\n",
       "\n",
       "    .dataframe thead th {\n",
       "        text-align: right;\n",
       "    }\n",
       "</style>\n",
       "<table border=\"1\" class=\"dataframe\">\n",
       "  <thead>\n",
       "    <tr style=\"text-align: right;\">\n",
       "      <th></th>\n",
       "      <th>car_name</th>\n",
       "      <th>car_prices_in_rupee</th>\n",
       "      <th>kms_driven</th>\n",
       "      <th>fuel_type</th>\n",
       "      <th>transmission</th>\n",
       "      <th>ownership</th>\n",
       "      <th>engine</th>\n",
       "      <th>Seats</th>\n",
       "      <th>company_name</th>\n",
       "      <th>Year</th>\n",
       "    </tr>\n",
       "  </thead>\n",
       "  <tbody>\n",
       "    <tr>\n",
       "      <th>0</th>\n",
       "      <td>Compass 2.0 Longitude Option BSIV</td>\n",
       "      <td>1003000.0</td>\n",
       "      <td>86226</td>\n",
       "      <td>Diesel</td>\n",
       "      <td>Manual</td>\n",
       "      <td>1st Owner</td>\n",
       "      <td>1956</td>\n",
       "      <td>5</td>\n",
       "      <td>Jeep</td>\n",
       "      <td>2022</td>\n",
       "    </tr>\n",
       "    <tr>\n",
       "      <th>1</th>\n",
       "      <td>Duster RXZ Turbo CVT</td>\n",
       "      <td>1283000.0</td>\n",
       "      <td>13248</td>\n",
       "      <td>Petrol</td>\n",
       "      <td>Automatic</td>\n",
       "      <td>1st Owner</td>\n",
       "      <td>1330</td>\n",
       "      <td>5</td>\n",
       "      <td>Renault</td>\n",
       "      <td>2022</td>\n",
       "    </tr>\n",
       "  </tbody>\n",
       "</table>\n",
       "</div>"
      ],
      "text/plain": [
       "                            car_name  car_prices_in_rupee  kms_driven  \\\n",
       "0  Compass 2.0 Longitude Option BSIV            1003000.0       86226   \n",
       "1               Duster RXZ Turbo CVT            1283000.0       13248   \n",
       "\n",
       "  fuel_type transmission  ownership  engine  Seats company_name  Year  \n",
       "0    Diesel       Manual  1st Owner    1956      5         Jeep  2022  \n",
       "1    Petrol    Automatic  1st Owner    1330      5      Renault  2022  "
      ]
     },
     "execution_count": 63,
     "metadata": {},
     "output_type": "execute_result"
    }
   ],
   "source": [
    "dataset.head(2)"
   ]
  },
  {
   "cell_type": "code",
   "execution_count": 65,
   "id": "1d693eff-213f-4c61-829d-0d0ddfc1e56e",
   "metadata": {},
   "outputs": [
    {
     "name": "stdout",
     "output_type": "stream",
     "text": [
      "<class 'pandas.core.frame.DataFrame'>\n",
      "RangeIndex: 5512 entries, 0 to 5511\n",
      "Data columns (total 10 columns):\n",
      " #   Column               Non-Null Count  Dtype  \n",
      "---  ------               --------------  -----  \n",
      " 0   car_name             5512 non-null   object \n",
      " 1   car_prices_in_rupee  5512 non-null   float64\n",
      " 2   kms_driven           5512 non-null   int64  \n",
      " 3   fuel_type            5512 non-null   object \n",
      " 4   transmission         5512 non-null   object \n",
      " 5   ownership            5512 non-null   object \n",
      " 6   engine               5512 non-null   int64  \n",
      " 7   Seats                5512 non-null   int64  \n",
      " 8   company_name         5512 non-null   object \n",
      " 9   Year                 5512 non-null   object \n",
      "dtypes: float64(1), int64(3), object(6)\n",
      "memory usage: 430.8+ KB\n"
     ]
    }
   ],
   "source": [
    "dataset.info()"
   ]
  },
  {
   "cell_type": "code",
   "execution_count": 11,
   "id": "c3178bd7-4bc0-43bc-aebe-8e66ce4e8a3a",
   "metadata": {},
   "outputs": [
    {
     "data": {
      "text/plain": [
       "car_name               0.0\n",
       "car_prices_in_rupee    0.0\n",
       "kms_driven             0.0\n",
       "fuel_type              0.0\n",
       "transmission           0.0\n",
       "ownership              0.0\n",
       "engine                 0.0\n",
       "Seats                  0.0\n",
       "manufacture            0.0\n",
       "dtype: float64"
      ]
     },
     "execution_count": 11,
     "metadata": {},
     "output_type": "execute_result"
    }
   ],
   "source": [
    "(dataset.isnull().sum()/dataset.shape[0])*100"
   ]
  },
  {
   "cell_type": "code",
   "execution_count": 13,
   "id": "58bf96e4-0890-49b1-b852-198e28fd2228",
   "metadata": {},
   "outputs": [],
   "source": [
    "dataset.dropna(inplace=True)"
   ]
  },
  {
   "cell_type": "code",
   "execution_count": null,
   "id": "f98c12d6-4e30-4c69-bc10-02e64942d908",
   "metadata": {},
   "outputs": [],
   "source": []
  },
  {
   "cell_type": "markdown",
   "id": "2fbcd66c-a3ec-4752-85c3-f2127ac03fea",
   "metadata": {},
   "source": [
    "# car_name"
   ]
  },
  {
   "cell_type": "code",
   "execution_count": 15,
   "id": "c23a6e03-8783-4565-8148-9ff8b654153f",
   "metadata": {},
   "outputs": [],
   "source": [
    "dataset['company_name']=dataset['car_name'].apply(lambda x:x[:x.index(' ')])"
   ]
  },
  {
   "cell_type": "code",
   "execution_count": 17,
   "id": "724bbaac-e853-40f3-900c-b73d9b5a148c",
   "metadata": {},
   "outputs": [],
   "source": [
    "dataset['car_name']=dataset ['car_name'].apply(lambda x:x[x.index(' ')+1:])"
   ]
  },
  {
   "cell_type": "code",
   "execution_count": null,
   "id": "a9f0ced3-869a-46d2-935d-2db87ed6fdc3",
   "metadata": {},
   "outputs": [],
   "source": []
  },
  {
   "cell_type": "markdown",
   "id": "58228b25-0b24-4903-9f72-1754d98b3687",
   "metadata": {},
   "source": [
    "# car_prices_in_rupee"
   ]
  },
  {
   "cell_type": "code",
   "execution_count": 19,
   "id": "4b39af17-9d88-443a-bdd2-f4468df00071",
   "metadata": {},
   "outputs": [],
   "source": [
    "dataset['car_prices_in_rupee']=dataset['car_prices_in_rupee'].str.replace(',','')"
   ]
  },
  {
   "cell_type": "code",
   "execution_count": 21,
   "id": "4a6605dd-32f5-4b3d-b694-e85c10ce6e3d",
   "metadata": {},
   "outputs": [],
   "source": [
    "def price_change(x):\n",
    "    p=x.split(' ')\n",
    "    try:\n",
    "        if p[1]=='Lakh':\n",
    "            return str(round(float(p[0])*100000,1))\n",
    "        elif p[1]=='Crore':\n",
    "            return str(round(float(p[0])*10000000,1))\n",
    "    except:\n",
    "        return x\n",
    "    "
   ]
  },
  {
   "cell_type": "code",
   "execution_count": 23,
   "id": "a86f291d-8954-41a6-bfed-b2251f52011b",
   "metadata": {},
   "outputs": [],
   "source": [
    "dataset['car_prices_in_rupee']=dataset['car_prices_in_rupee'].apply(price_change)"
   ]
  },
  {
   "cell_type": "code",
   "execution_count": 25,
   "id": "0de8879d-5cac-4596-ac41-ff4868dab6f4",
   "metadata": {},
   "outputs": [],
   "source": [
    "dataset['car_prices_in_rupee']=dataset['car_prices_in_rupee'].astype('float')"
   ]
  },
  {
   "cell_type": "code",
   "execution_count": null,
   "id": "ac5a0580-0b95-4d26-9d11-fbeb0ff59649",
   "metadata": {},
   "outputs": [],
   "source": []
  },
  {
   "cell_type": "markdown",
   "id": "57651814-03bd-4fae-8576-6800a76891c9",
   "metadata": {},
   "source": [
    "# kms_driven"
   ]
  },
  {
   "cell_type": "code",
   "execution_count": 27,
   "id": "0d2464b7-685f-451b-a74a-9344382ab8e2",
   "metadata": {},
   "outputs": [],
   "source": [
    "dataset['kms_driven']=dataset['kms_driven'].str.replace(',','')\n",
    "dataset['kms_driven']=dataset['kms_driven'].str.replace('kms','')"
   ]
  },
  {
   "cell_type": "code",
   "execution_count": 29,
   "id": "2d2b43b7-c9bc-422a-9b0e-ef4910bef518",
   "metadata": {},
   "outputs": [],
   "source": [
    "dataset['kms_driven']=dataset['kms_driven'].astype('int64')"
   ]
  },
  {
   "cell_type": "code",
   "execution_count": null,
   "id": "cb2ee902-a0ee-4bce-b839-0ad5a9ed98ff",
   "metadata": {},
   "outputs": [],
   "source": []
  },
  {
   "cell_type": "markdown",
   "id": "ae75fd76-32a1-43f3-9b47-65b453fd3db8",
   "metadata": {},
   "source": [
    "# engine"
   ]
  },
  {
   "cell_type": "code",
   "execution_count": 31,
   "id": "e1de7ae2-04e6-4677-aa19-7bf6c6efe6c7",
   "metadata": {},
   "outputs": [],
   "source": [
    "dataset['engine']=dataset['engine'].str.replace(' cc','')"
   ]
  },
  {
   "cell_type": "code",
   "execution_count": 33,
   "id": "648e8624-5300-4ad5-910a-851cc9732bec",
   "metadata": {},
   "outputs": [],
   "source": [
    "dataset['engine']=dataset['engine'].astype('int64')"
   ]
  },
  {
   "cell_type": "code",
   "execution_count": null,
   "id": "929c635c-ead0-42e3-8670-7238ad678fe0",
   "metadata": {},
   "outputs": [],
   "source": []
  },
  {
   "cell_type": "markdown",
   "id": "8c14d287-1d1c-41ad-8dd9-f4fc74252bab",
   "metadata": {},
   "source": [
    "# Seats"
   ]
  },
  {
   "cell_type": "code",
   "execution_count": 35,
   "id": "e33fc58c-75a5-4df0-bb57-7d641256c539",
   "metadata": {},
   "outputs": [],
   "source": [
    "dataset['Seats']=dataset['Seats'].str.replace(' Seats','')\n",
    "dataset['Seats']=dataset['Seats'].astype('int64')"
   ]
  },
  {
   "cell_type": "code",
   "execution_count": null,
   "id": "bece4ee2-8fe7-4c49-ba58-80b5cde9123c",
   "metadata": {},
   "outputs": [],
   "source": []
  },
  {
   "cell_type": "markdown",
   "id": "0e0be06a-ac63-4684-b331-d9e6d86abbbb",
   "metadata": {},
   "source": [
    "# manufacture"
   ]
  },
  {
   "cell_type": "code",
   "execution_count": 37,
   "id": "8e509a26-6920-4a2c-934d-456a0ed720ec",
   "metadata": {},
   "outputs": [],
   "source": [
    "dataset['manufacture']=pd.to_datetime(dataset['manufacture'])"
   ]
  },
  {
   "cell_type": "code",
   "execution_count": 39,
   "id": "8200f650-bd13-4be4-935a-646e151f308f",
   "metadata": {},
   "outputs": [],
   "source": [
    "dataset['Year']=dataset['manufacture'].dt.strftime('%Y')"
   ]
  },
  {
   "cell_type": "code",
   "execution_count": 41,
   "id": "88438290-8be4-4336-b0f0-c01334319ee8",
   "metadata": {},
   "outputs": [],
   "source": [
    "dataset.drop(columns=['manufacture'],inplace=True)"
   ]
  },
  {
   "cell_type": "code",
   "execution_count": null,
   "id": "96d045d4-ba1c-4de6-a5f4-c522f0eb53fb",
   "metadata": {},
   "outputs": [],
   "source": []
  },
  {
   "cell_type": "code",
   "execution_count": 69,
   "id": "f6b1e245-545f-4a27-a6cc-4a6f71ced291",
   "metadata": {},
   "outputs": [
    {
     "data": {
      "image/png": "[encoded data removed]",
      "text/plain": [
       "<Figure size 500x400 with 1 Axes>"
      ]
     },
     "metadata": {},
     "output_type": "display_data"
    }
   ],
   "source": [
    "fig=plt.figure(figsize=(5,4))\n",
    "ax=sns.countplot(x='transmission',data=dataset,hue='transmission')\n",
    "for x in ax.containers:\n",
    "    ax.bar_label(x)\n",
    "ax.set_title('Transmittion of car')\n",
    "plt.show()"
   ]
  },
  {
   "cell_type": "code",
   "execution_count": 71,
   "id": "ecffa85f-46b1-41de-b197-a97cfab549e8",
   "metadata": {},
   "outputs": [
    {
     "data": {
      "image/png": "[encoded data removed]",
      "text/plain": [
       "<Figure size 500x400 with 1 Axes>"
      ]
     },
     "metadata": {},
     "output_type": "display_data"
    }
   ],
   "source": [
    "fig=plt.figure(figsize=(5,4))\n",
    "ax=sns.countplot(x='fuel_type',data=dataset,hue='fuel_type')\n",
    "for x in ax.containers:\n",
    "    ax.bar_label(x)\n",
    "ax.set_title('Different fuel type')\n",
    "plt.show()"
   ]
  },
  {
   "cell_type": "code",
   "execution_count": 153,
   "id": "52ad1aa0-15d1-44c1-a8b4-f1d7130a0800",
   "metadata": {},
   "outputs": [
    {
     "data": {
      "text/plain": [
       "Text(0.5, 1.0, 'Car related to Seats')"
      ]
     },
     "execution_count": 153,
     "metadata": {},
     "output_type": "execute_result"
    },
    {
     "data": {
      "image/png": "[encoded data removed]",
      "text/plain": [
       "<Figure size 640x480 with 1 Axes>"
      ]
     },
     "metadata": {},
     "output_type": "display_data"
    }
   ],
   "source": [
    "ax=sns.countplot(x='Seats',data=dataset)\n",
    "for x in ax.containers:\n",
    "    ax.bar_label(x)\n",
    "ax.set_title('Car related to Seats')"
   ]
  },
  {
   "cell_type": "markdown",
   "id": "37a7e6d1-9aae-46a7-8797-5f965013ce66",
   "metadata": {},
   "source": [
    "# Conclusion:"
   ]
  },
  {
   "cell_type": "markdown",
   "id": "6539b5d1-4630-45fb-928d-e5e82fdae89a",
   "metadata": {},
   "source": [
    "In the above graph we see 5 seater manual car with fuel type Petrol sold more than others."
   ]
  },
  {
   "cell_type": "code",
   "execution_count": null,
   "id": "0079d1a8-f58c-4d8a-b6df-77f9344f4ff7",
   "metadata": {},
   "outputs": [],
   "source": []
  }
 ],
 "metadata": {
  "kernelspec": {
   "display_name": "Python 3 (ipykernel)",
   "language": "python",
   "name": "python3"
  },
  "language_info": {
   "codemirror_mode": {
    "name": "ipython",
    "version": 3
   },
   "file_extension": ".py",
   "mimetype": "text/x-python",
   "name": "python",
   "nbconvert_exporter": "python",
   "pygments_lexer": "ipython3",
   "version": "3.12.4"
  }
 },
 "nbformat": 4,
 "nbformat_minor": 5
}
